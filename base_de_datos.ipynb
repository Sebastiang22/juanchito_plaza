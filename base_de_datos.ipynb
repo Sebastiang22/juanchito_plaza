{
 "cells": [
  {
   "cell_type": "markdown",
   "metadata": {},
   "source": [
    "crear base de datos"
   ]
  },
  {
   "cell_type": "code",
   "execution_count": 6,
   "metadata": {},
   "outputs": [
    {
     "name": "stdout",
     "output_type": "stream",
     "text": [
      "Base de datos 'juancho_plaza' y tablas creadas exitosamente.\n",
      "Conexión a MySQL cerrada.\n"
     ]
    }
   ],
   "source": [
    "import mysql.connector\n",
    "from mysql.connector import Error\n",
    "\n",
    "# Configuración de la conexión a MySQL\n",
    "config = {\n",
    "    'user': 'root',\n",
    "    'password': 'password',\n",
    "    'host': 'localhost',\n",
    "    'port': 3308,\n",
    "}\n",
    "\n",
    "# Función para crear la base de datos y las tablas\n",
    "def crear_base_datos():\n",
    "    try:\n",
    "        # Conexión a MySQL\n",
    "        connection = mysql.connector.connect(**config)\n",
    "        \n",
    "        if connection.is_connected():\n",
    "            cursor = connection.cursor()\n",
    "\n",
    "            # Crear la base de datos 'juancho_plaza'\n",
    "            cursor.execute(\"CREATE DATABASE IF NOT EXISTS juanchito_plaza\")\n",
    "            cursor.execute(\"USE juanchito_plaza\")\n",
    "\n",
    "            # Crear la tabla 'clientes' para almacenar los números de teléfono de los clientes\n",
    "            cursor.execute(\"\"\"\n",
    "                CREATE TABLE IF NOT EXISTS clientes (\n",
    "                    id INT AUTO_INCREMENT PRIMARY KEY,\n",
    "                    telefono VARCHAR(15) NOT NULL UNIQUE,\n",
    "                    nombre TEXT \n",
    "                )\n",
    "            \"\"\")\n",
    "\n",
    "            # Crear la tabla 'pedidos' para almacenar los pedidos de los clientes\n",
    "            cursor.execute(\"\"\"\n",
    "                CREATE TABLE IF NOT EXISTS pedidos (\n",
    "                    id INT AUTO_INCREMENT PRIMARY KEY,\n",
    "                    cliente_id INT,\n",
    "                    pedido_json JSON NOT NULL,\n",
    "                    pedido_cofirmado BOOLEAN DEFAULT FALSE,\n",
    "                    direccion TEXT ,\n",
    "                    fecha_pedido DATETIME DEFAULT CURRENT_TIMESTAMP,\n",
    "                    FOREIGN KEY (cliente_id) REFERENCES clientes(id)\n",
    "                )\n",
    "            \"\"\")\n",
    "\n",
    "            # Crear la tabla 'conversaciones_chatbot' para almacenar las conversaciones con el chatbot\n",
    "            cursor.execute(\"\"\"\n",
    "                CREATE TABLE IF NOT EXISTS conversaciones_chatbot (\n",
    "                    id INT AUTO_INCREMENT PRIMARY KEY,\n",
    "                    cliente_id INT,\n",
    "                    mensaje_cliente_chatbot TEXT NOT NULL,\n",
    "                    fecha_conversacion DATETIME DEFAULT CURRENT_TIMESTAMP,\n",
    "                    FOREIGN KEY (cliente_id) REFERENCES clientes(id)\n",
    "                )\n",
    "            \"\"\")\n",
    "\n",
    "            # Crear la tabla 'menus' para almacenar los menús del restaurante en un solo string\n",
    "            cursor.execute(\"\"\"\n",
    "                CREATE TABLE IF NOT EXISTS menus (\n",
    "                    id INT AUTO_INCREMENT PRIMARY KEY,\n",
    "                    contenido_menu TEXT NOT NULL,  -- Aquí almacenamos todo el menú en formato string\n",
    "                    fecha_actualizacion DATETIME DEFAULT CURRENT_TIMESTAMP ON UPDATE CURRENT_TIMESTAMP\n",
    "                )\n",
    "            \"\"\")\n",
    "\n",
    "            print(\"Base de datos 'juancho_plaza' y tablas creadas exitosamente.\")\n",
    "            \n",
    "    except Error as e:\n",
    "        print(f\"Error: {e}\")\n",
    "    finally:\n",
    "        if connection.is_connected():\n",
    "            cursor.close()\n",
    "            connection.close()\n",
    "            print(\"Conexión a MySQL cerrada.\")\n",
    "\n",
    "# Ejecutar la función\n",
    "crear_base_datos()\n"
   ]
  },
  {
   "cell_type": "markdown",
   "metadata": {},
   "source": [
    "borrar tablas "
   ]
  },
  {
   "cell_type": "code",
   "execution_count": 1,
   "metadata": {},
   "outputs": [
    {
     "name": "stdout",
     "output_type": "stream",
     "text": [
      "Conectado al servidor de MySQL\n",
      "Tabla 'clientes' borrada, si existía.\n",
      "Tabla 'pedidos' borrada, si existía.\n",
      "Tabla 'conversaciones_chatbot' borrada, si existía.\n",
      "Conexión a MySQL cerrada.\n"
     ]
    }
   ],
   "source": [
    "import mysql.connector\n",
    "from mysql.connector import Error\n",
    "\n",
    "config = {\n",
    "    'user': 'root',\n",
    "    'password': 'password',\n",
    "    'host': 'db_juanchito_plaza',\n",
    "    'port': 3306,\n",
    "    'database': 'juanchito_plaza'\n",
    "}\n",
    "\n",
    "def drop_tables():\n",
    "    connection = None\n",
    "    try:\n",
    "        # Conectar al servidor MySQL\n",
    "        connection = mysql.connector.connect(**config)\n",
    "        if connection.is_connected():\n",
    "            print(\"Conectado al servidor de MySQL\")\n",
    "\n",
    "            # Crear un cursor para realizar operaciones\n",
    "            cursor = connection.cursor()\n",
    "\n",
    "            # Seleccionar la base de datos 'juancho_plaza'\n",
    "            cursor.execute(\"USE juancho_plaza;\")\n",
    "\n",
    "            # Borrar las tablas 'clientes', 'pedidos' y 'conversaciones_chatbot'\n",
    "            cursor.execute(\"DROP TABLE IF EXISTS conversaciones_chatbot;\")\n",
    "            print(\"Tabla 'clientes' borrada, si existía.\")\n",
    "\n",
    "            cursor.execute(\"DROP TABLE IF EXISTS pedidos;\")\n",
    "            print(\"Tabla 'pedidos' borrada, si existía.\")\n",
    "\n",
    "            cursor.execute(\"DROP TABLE IF EXISTS clientes;\")\n",
    "            print(\"Tabla 'conversaciones_chatbot' borrada, si existía.\")\n",
    "\n",
    "    except Error as e:\n",
    "        print(f\"Error: {e}\")\n",
    "    finally:\n",
    "        if connection is not None and connection.is_connected():\n",
    "            cursor.close()\n",
    "            connection.close()\n",
    "            print(\"Conexión a MySQL cerrada.\")\n",
    "\n",
    "# Ejecutar la función para borrar las tres tablas\n",
    "drop_tables()\n"
   ]
  }
 ],
 "metadata": {
  "kernelspec": {
   "display_name": "Python 3",
   "language": "python",
   "name": "python3"
  },
  "language_info": {
   "codemirror_mode": {
    "name": "ipython",
    "version": 3
   },
   "file_extension": ".py",
   "mimetype": "text/x-python",
   "name": "python",
   "nbconvert_exporter": "python",
   "pygments_lexer": "ipython3",
   "version": "3.12.2"
  }
 },
 "nbformat": 4,
 "nbformat_minor": 2
}
